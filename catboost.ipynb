{
 "cells": [
  {
   "cell_type": "markdown",
   "id": "ead1efe6",
   "metadata": {
    "execution": {
     "iopub.execute_input": "2023-04-23T18:11:10.726754Z",
     "iopub.status.busy": "2023-04-23T18:11:10.725697Z",
     "iopub.status.idle": "2023-04-23T18:11:10.776860Z",
     "shell.execute_reply": "2023-04-23T18:11:10.775755Z"
    },
    "papermill": {
     "duration": 0.067684,
     "end_time": "2023-04-23T18:11:10.779630",
     "exception": false,
     "start_time": "2023-04-23T18:11:10.711946",
     "status": "completed"
    },
    "tags": []
   },
   "source": [
    "# Загрузка данных"
   ]
  },
  {
   "cell_type": "markdown",
   "id": "dd52e17e",
   "metadata": {},
   "source": [
    "# git git git\n"
   ]
  },
  {
   "cell_type": "markdown",
   "id": "d983407f",
   "metadata": {},
   "source": [
    "second commit "
   ]
  },
  {
   "cell_type": "code",
   "execution_count": 48,
   "id": "e3a3cea5",
   "metadata": {},
   "outputs": [
    {
     "name": "stdout",
     "output_type": "stream",
     "text": [
      "Requirement already satisfied: catboost in c:\\users\\1\\anaconda3\\lib\\site-packages (1.1.1)\n",
      "Requirement already satisfied: pandas>=0.24.0 in c:\\users\\1\\anaconda3\\lib\\site-packages (from catboost) (1.4.2)\n",
      "Requirement already satisfied: six in c:\\users\\1\\appdata\\roaming\\python\\python39\\site-packages (from catboost) (1.15.0)\n",
      "Requirement already satisfied: matplotlib in c:\\users\\1\\anaconda3\\lib\\site-packages (from catboost) (3.5.1)\n",
      "Requirement already satisfied: scipy in c:\\users\\1\\anaconda3\\lib\\site-packages (from catboost) (1.7.3)\n",
      "Requirement already satisfied: plotly in c:\\users\\1\\anaconda3\\lib\\site-packages (from catboost) (5.6.0)\n",
      "Requirement already satisfied: graphviz in c:\\users\\1\\anaconda3\\lib\\site-packages (from catboost) (0.20.1)\n",
      "Requirement already satisfied: numpy>=1.16.0 in c:\\users\\1\\anaconda3\\lib\\site-packages (from catboost) (1.21.5)\n",
      "Requirement already satisfied: python-dateutil>=2.8.1 in c:\\users\\1\\anaconda3\\lib\\site-packages (from pandas>=0.24.0->catboost) (2.8.2)\n",
      "Requirement already satisfied: pytz>=2020.1 in c:\\users\\1\\anaconda3\\lib\\site-packages (from pandas>=0.24.0->catboost) (2021.3)\n",
      "Requirement already satisfied: pillow>=6.2.0 in c:\\users\\1\\anaconda3\\lib\\site-packages (from matplotlib->catboost) (9.0.1)\n",
      "Requirement already satisfied: packaging>=20.0 in c:\\users\\1\\anaconda3\\lib\\site-packages (from matplotlib->catboost) (21.3)\n",
      "Requirement already satisfied: cycler>=0.10 in c:\\users\\1\\anaconda3\\lib\\site-packages (from matplotlib->catboost) (0.11.0)\n",
      "Requirement already satisfied: pyparsing>=2.2.1 in c:\\users\\1\\anaconda3\\lib\\site-packages (from matplotlib->catboost) (3.0.4)\n",
      "Requirement already satisfied: fonttools>=4.22.0 in c:\\users\\1\\anaconda3\\lib\\site-packages (from matplotlib->catboost) (4.25.0)\n",
      "Requirement already satisfied: kiwisolver>=1.0.1 in c:\\users\\1\\anaconda3\\lib\\site-packages (from matplotlib->catboost) (1.3.2)\n",
      "Requirement already satisfied: tenacity>=6.2.0 in c:\\users\\1\\anaconda3\\lib\\site-packages (from plotly->catboost) (8.0.1)\n"
     ]
    }
   ],
   "source": [
    "!pip install catboost"
   ]
  },
  {
   "cell_type": "code",
   "execution_count": 79,
   "id": "5aa50f3f",
   "metadata": {},
   "outputs": [],
   "source": [
    "import pandas as pd\n",
    "import numpy as np\n",
    "from sklearn.model_selection import train_test_split\n",
    "from catboost import CatBoostClassifier\n",
    "from catboost import cv, Pool\n",
    "from sklearn.metrics import *"
   ]
  },
  {
   "cell_type": "code",
   "execution_count": null,
   "id": "c8bd3c5f",
   "metadata": {},
   "outputs": [],
   "source": [
    "#weijsbg ass"
   ]
  },
  {
   "cell_type": "code",
   "execution_count": null,
   "id": "798d3e4b",
   "metadata": {},
   "outputs": [],
   "source": []
  },
  {
   "cell_type": "code",
   "execution_count": null,
   "id": "db9f57a6",
   "metadata": {},
   "outputs": [],
   "source": [
    "#wesfdfsef"
   ]
  },
  {
   "cell_type": "code",
   "execution_count": null,
   "id": "7ae3ef43",
   "metadata": {},
   "outputs": [],
   "source": []
  },
  {
   "cell_type": "code",
   "execution_count": 57,
   "id": "3cadbfb9",
   "metadata": {
    "execution": {
     "iopub.execute_input": "2023-04-23T18:11:10.805800Z",
     "iopub.status.busy": "2023-04-23T18:11:10.805429Z",
     "iopub.status.idle": "2023-04-23T18:11:10.850305Z",
     "shell.execute_reply": "2023-04-23T18:11:10.849301Z"
    },
    "papermill": {
     "duration": 0.061629,
     "end_time": "2023-04-23T18:11:10.852999",
     "exception": false,
     "start_time": "2023-04-23T18:11:10.791370",
     "status": "completed"
    },
    "tags": []
   },
   "outputs": [],
   "source": [
    "df = pd.read_csv('data/aug_train.csv')\n",
    "test_for_k = pd.read_csv('data/aug_test.csv')"
   ]
  },
  {
   "cell_type": "code",
   "execution_count": 58,
   "id": "240e5943",
   "metadata": {},
   "outputs": [
    {
     "data": {
      "text/html": [
       "<div>\n",
       "<style scoped>\n",
       "    .dataframe tbody tr th:only-of-type {\n",
       "        vertical-align: middle;\n",
       "    }\n",
       "\n",
       "    .dataframe tbody tr th {\n",
       "        vertical-align: top;\n",
       "    }\n",
       "\n",
       "    .dataframe thead th {\n",
       "        text-align: right;\n",
       "    }\n",
       "</style>\n",
       "<table border=\"1\" class=\"dataframe\">\n",
       "  <thead>\n",
       "    <tr style=\"text-align: right;\">\n",
       "      <th></th>\n",
       "      <th>enrollee_id</th>\n",
       "      <th>city</th>\n",
       "      <th>city_development_index</th>\n",
       "      <th>gender</th>\n",
       "      <th>relevent_experience</th>\n",
       "      <th>enrolled_university</th>\n",
       "      <th>education_level</th>\n",
       "      <th>major_discipline</th>\n",
       "      <th>experience</th>\n",
       "      <th>company_size</th>\n",
       "      <th>company_type</th>\n",
       "      <th>last_new_job</th>\n",
       "      <th>training_hours</th>\n",
       "      <th>target</th>\n",
       "    </tr>\n",
       "  </thead>\n",
       "  <tbody>\n",
       "    <tr>\n",
       "      <th>0</th>\n",
       "      <td>8949</td>\n",
       "      <td>city_103</td>\n",
       "      <td>0.920</td>\n",
       "      <td>Male</td>\n",
       "      <td>Has relevent experience</td>\n",
       "      <td>no_enrollment</td>\n",
       "      <td>Graduate</td>\n",
       "      <td>STEM</td>\n",
       "      <td>&gt;20</td>\n",
       "      <td>NaN</td>\n",
       "      <td>NaN</td>\n",
       "      <td>1</td>\n",
       "      <td>36</td>\n",
       "      <td>1.0</td>\n",
       "    </tr>\n",
       "    <tr>\n",
       "      <th>1</th>\n",
       "      <td>29725</td>\n",
       "      <td>city_40</td>\n",
       "      <td>0.776</td>\n",
       "      <td>Male</td>\n",
       "      <td>No relevent experience</td>\n",
       "      <td>no_enrollment</td>\n",
       "      <td>Graduate</td>\n",
       "      <td>STEM</td>\n",
       "      <td>15</td>\n",
       "      <td>50-99</td>\n",
       "      <td>Pvt Ltd</td>\n",
       "      <td>&gt;4</td>\n",
       "      <td>47</td>\n",
       "      <td>0.0</td>\n",
       "    </tr>\n",
       "    <tr>\n",
       "      <th>2</th>\n",
       "      <td>11561</td>\n",
       "      <td>city_21</td>\n",
       "      <td>0.624</td>\n",
       "      <td>NaN</td>\n",
       "      <td>No relevent experience</td>\n",
       "      <td>Full time course</td>\n",
       "      <td>Graduate</td>\n",
       "      <td>STEM</td>\n",
       "      <td>5</td>\n",
       "      <td>NaN</td>\n",
       "      <td>NaN</td>\n",
       "      <td>never</td>\n",
       "      <td>83</td>\n",
       "      <td>0.0</td>\n",
       "    </tr>\n",
       "    <tr>\n",
       "      <th>3</th>\n",
       "      <td>33241</td>\n",
       "      <td>city_115</td>\n",
       "      <td>0.789</td>\n",
       "      <td>NaN</td>\n",
       "      <td>No relevent experience</td>\n",
       "      <td>NaN</td>\n",
       "      <td>Graduate</td>\n",
       "      <td>Business Degree</td>\n",
       "      <td>&lt;1</td>\n",
       "      <td>NaN</td>\n",
       "      <td>Pvt Ltd</td>\n",
       "      <td>never</td>\n",
       "      <td>52</td>\n",
       "      <td>1.0</td>\n",
       "    </tr>\n",
       "    <tr>\n",
       "      <th>4</th>\n",
       "      <td>666</td>\n",
       "      <td>city_162</td>\n",
       "      <td>0.767</td>\n",
       "      <td>Male</td>\n",
       "      <td>Has relevent experience</td>\n",
       "      <td>no_enrollment</td>\n",
       "      <td>Masters</td>\n",
       "      <td>STEM</td>\n",
       "      <td>&gt;20</td>\n",
       "      <td>50-99</td>\n",
       "      <td>Funded Startup</td>\n",
       "      <td>4</td>\n",
       "      <td>8</td>\n",
       "      <td>0.0</td>\n",
       "    </tr>\n",
       "  </tbody>\n",
       "</table>\n",
       "</div>"
      ],
      "text/plain": [
       "   enrollee_id      city  city_development_index gender  \\\n",
       "0         8949  city_103                   0.920   Male   \n",
       "1        29725   city_40                   0.776   Male   \n",
       "2        11561   city_21                   0.624    NaN   \n",
       "3        33241  city_115                   0.789    NaN   \n",
       "4          666  city_162                   0.767   Male   \n",
       "\n",
       "       relevent_experience enrolled_university education_level  \\\n",
       "0  Has relevent experience       no_enrollment        Graduate   \n",
       "1   No relevent experience       no_enrollment        Graduate   \n",
       "2   No relevent experience    Full time course        Graduate   \n",
       "3   No relevent experience                 NaN        Graduate   \n",
       "4  Has relevent experience       no_enrollment         Masters   \n",
       "\n",
       "  major_discipline experience company_size    company_type last_new_job  \\\n",
       "0             STEM        >20          NaN             NaN            1   \n",
       "1             STEM         15        50-99         Pvt Ltd           >4   \n",
       "2             STEM          5          NaN             NaN        never   \n",
       "3  Business Degree         <1          NaN         Pvt Ltd        never   \n",
       "4             STEM        >20        50-99  Funded Startup            4   \n",
       "\n",
       "   training_hours  target  \n",
       "0              36     1.0  \n",
       "1              47     0.0  \n",
       "2              83     0.0  \n",
       "3              52     1.0  \n",
       "4               8     0.0  "
      ]
     },
     "execution_count": 58,
     "metadata": {},
     "output_type": "execute_result"
    }
   ],
   "source": [
    "df.head()"
   ]
  },
  {
   "cell_type": "code",
   "execution_count": 59,
   "id": "ebf5c2c0",
   "metadata": {},
   "outputs": [
    {
     "data": {
      "text/html": [
       "<div>\n",
       "<style scoped>\n",
       "    .dataframe tbody tr th:only-of-type {\n",
       "        vertical-align: middle;\n",
       "    }\n",
       "\n",
       "    .dataframe tbody tr th {\n",
       "        vertical-align: top;\n",
       "    }\n",
       "\n",
       "    .dataframe thead th {\n",
       "        text-align: right;\n",
       "    }\n",
       "</style>\n",
       "<table border=\"1\" class=\"dataframe\">\n",
       "  <thead>\n",
       "    <tr style=\"text-align: right;\">\n",
       "      <th></th>\n",
       "      <th>enrollee_id</th>\n",
       "      <th>city</th>\n",
       "      <th>city_development_index</th>\n",
       "      <th>gender</th>\n",
       "      <th>relevent_experience</th>\n",
       "      <th>enrolled_university</th>\n",
       "      <th>education_level</th>\n",
       "      <th>major_discipline</th>\n",
       "      <th>experience</th>\n",
       "      <th>company_size</th>\n",
       "      <th>company_type</th>\n",
       "      <th>last_new_job</th>\n",
       "      <th>training_hours</th>\n",
       "    </tr>\n",
       "  </thead>\n",
       "  <tbody>\n",
       "    <tr>\n",
       "      <th>0</th>\n",
       "      <td>32403</td>\n",
       "      <td>city_41</td>\n",
       "      <td>0.827</td>\n",
       "      <td>Male</td>\n",
       "      <td>Has relevent experience</td>\n",
       "      <td>Full time course</td>\n",
       "      <td>Graduate</td>\n",
       "      <td>STEM</td>\n",
       "      <td>9</td>\n",
       "      <td>&lt;10</td>\n",
       "      <td>NaN</td>\n",
       "      <td>1</td>\n",
       "      <td>21</td>\n",
       "    </tr>\n",
       "    <tr>\n",
       "      <th>1</th>\n",
       "      <td>9858</td>\n",
       "      <td>city_103</td>\n",
       "      <td>0.920</td>\n",
       "      <td>Female</td>\n",
       "      <td>Has relevent experience</td>\n",
       "      <td>no_enrollment</td>\n",
       "      <td>Graduate</td>\n",
       "      <td>STEM</td>\n",
       "      <td>5</td>\n",
       "      <td>NaN</td>\n",
       "      <td>Pvt Ltd</td>\n",
       "      <td>1</td>\n",
       "      <td>98</td>\n",
       "    </tr>\n",
       "    <tr>\n",
       "      <th>2</th>\n",
       "      <td>31806</td>\n",
       "      <td>city_21</td>\n",
       "      <td>0.624</td>\n",
       "      <td>Male</td>\n",
       "      <td>No relevent experience</td>\n",
       "      <td>no_enrollment</td>\n",
       "      <td>High School</td>\n",
       "      <td>NaN</td>\n",
       "      <td>&lt;1</td>\n",
       "      <td>NaN</td>\n",
       "      <td>Pvt Ltd</td>\n",
       "      <td>never</td>\n",
       "      <td>15</td>\n",
       "    </tr>\n",
       "    <tr>\n",
       "      <th>3</th>\n",
       "      <td>27385</td>\n",
       "      <td>city_13</td>\n",
       "      <td>0.827</td>\n",
       "      <td>Male</td>\n",
       "      <td>Has relevent experience</td>\n",
       "      <td>no_enrollment</td>\n",
       "      <td>Masters</td>\n",
       "      <td>STEM</td>\n",
       "      <td>11</td>\n",
       "      <td>10/49</td>\n",
       "      <td>Pvt Ltd</td>\n",
       "      <td>1</td>\n",
       "      <td>39</td>\n",
       "    </tr>\n",
       "  </tbody>\n",
       "</table>\n",
       "</div>"
      ],
      "text/plain": [
       "   enrollee_id      city  city_development_index  gender  \\\n",
       "0        32403   city_41                   0.827    Male   \n",
       "1         9858  city_103                   0.920  Female   \n",
       "2        31806   city_21                   0.624    Male   \n",
       "3        27385   city_13                   0.827    Male   \n",
       "\n",
       "       relevent_experience enrolled_university education_level  \\\n",
       "0  Has relevent experience    Full time course        Graduate   \n",
       "1  Has relevent experience       no_enrollment        Graduate   \n",
       "2   No relevent experience       no_enrollment     High School   \n",
       "3  Has relevent experience       no_enrollment         Masters   \n",
       "\n",
       "  major_discipline experience company_size company_type last_new_job  \\\n",
       "0             STEM          9          <10          NaN            1   \n",
       "1             STEM          5          NaN      Pvt Ltd            1   \n",
       "2              NaN         <1          NaN      Pvt Ltd        never   \n",
       "3             STEM         11        10/49      Pvt Ltd            1   \n",
       "\n",
       "   training_hours  \n",
       "0              21  \n",
       "1              98  \n",
       "2              15  \n",
       "3              39  "
      ]
     },
     "execution_count": 59,
     "metadata": {},
     "output_type": "execute_result"
    }
   ],
   "source": [
    "test_for_k.head(4)"
   ]
  },
  {
   "cell_type": "markdown",
   "id": "c6128599",
   "metadata": {},
   "source": [
    "# Предобработка"
   ]
  },
  {
   "cell_type": "code",
   "execution_count": 60,
   "id": "bffe1680",
   "metadata": {},
   "outputs": [],
   "source": [
    "df = df.drop('enrollee_id', axis = 1)\n",
    "test_for_k = test_for_k.drop('enrollee_id', axis = 1)"
   ]
  },
  {
   "cell_type": "code",
   "execution_count": 61,
   "id": "a99612e5",
   "metadata": {
    "execution": {
     "iopub.execute_input": "2023-04-23T18:11:10.986893Z",
     "iopub.status.busy": "2023-04-23T18:11:10.986143Z",
     "iopub.status.idle": "2023-04-23T18:11:10.991812Z",
     "shell.execute_reply": "2023-04-23T18:11:10.990611Z"
    },
    "papermill": {
     "duration": 0.022519,
     "end_time": "2023-04-23T18:11:10.994583",
     "exception": false,
     "start_time": "2023-04-23T18:11:10.972064",
     "status": "completed"
    },
    "tags": []
   },
   "outputs": [],
   "source": [
    "old_shape = df.shape[0]"
   ]
  },
  {
   "cell_type": "code",
   "execution_count": 62,
   "id": "b67a1e20",
   "metadata": {
    "execution": {
     "iopub.execute_input": "2023-04-23T18:11:11.085916Z",
     "iopub.status.busy": "2023-04-23T18:11:11.085251Z",
     "iopub.status.idle": "2023-04-23T18:11:11.108864Z",
     "shell.execute_reply": "2023-04-23T18:11:11.107644Z"
    },
    "papermill": {
     "duration": 0.039755,
     "end_time": "2023-04-23T18:11:11.111631",
     "exception": false,
     "start_time": "2023-04-23T18:11:11.071876",
     "status": "completed"
    },
    "tags": []
   },
   "outputs": [
    {
     "name": "stdout",
     "output_type": "stream",
     "text": [
      "<class 'pandas.core.frame.DataFrame'>\n",
      "RangeIndex: 19158 entries, 0 to 19157\n",
      "Data columns (total 13 columns):\n",
      " #   Column                  Non-Null Count  Dtype  \n",
      "---  ------                  --------------  -----  \n",
      " 0   city                    19158 non-null  object \n",
      " 1   city_development_index  19158 non-null  float64\n",
      " 2   gender                  14650 non-null  object \n",
      " 3   relevent_experience     19158 non-null  object \n",
      " 4   enrolled_university     18772 non-null  object \n",
      " 5   education_level         18698 non-null  object \n",
      " 6   major_discipline        16345 non-null  object \n",
      " 7   experience              19093 non-null  object \n",
      " 8   company_size            13220 non-null  object \n",
      " 9   company_type            13018 non-null  object \n",
      " 10  last_new_job            18735 non-null  object \n",
      " 11  training_hours          19158 non-null  int64  \n",
      " 12  target                  19158 non-null  float64\n",
      "dtypes: float64(2), int64(1), object(10)\n",
      "memory usage: 1.9+ MB\n"
     ]
    }
   ],
   "source": [
    "df.info()"
   ]
  },
  {
   "cell_type": "code",
   "execution_count": 63,
   "id": "54d296e6",
   "metadata": {
    "execution": {
     "iopub.execute_input": "2023-04-23T18:11:10.880966Z",
     "iopub.status.busy": "2023-04-23T18:11:10.880577Z",
     "iopub.status.idle": "2023-04-23T18:11:10.898237Z",
     "shell.execute_reply": "2023-04-23T18:11:10.897342Z"
    },
    "papermill": {
     "duration": 0.034241,
     "end_time": "2023-04-23T18:11:10.900581",
     "exception": false,
     "start_time": "2023-04-23T18:11:10.866340",
     "status": "completed"
    },
    "tags": []
   },
   "outputs": [
    {
     "data": {
      "text/plain": [
       "city                      0.000000\n",
       "city_development_index    0.000000\n",
       "relevent_experience       0.000000\n",
       "training_hours            0.000000\n",
       "target                    0.000000\n",
       "experience                0.003393\n",
       "enrolled_university       0.020148\n",
       "last_new_job              0.022080\n",
       "education_level           0.024011\n",
       "major_discipline          0.146832\n",
       "gender                    0.235306\n",
       "company_size              0.309949\n",
       "company_type              0.320493\n",
       "dtype: float64"
      ]
     },
     "execution_count": 63,
     "metadata": {},
     "output_type": "execute_result"
    }
   ],
   "source": [
    "df.isna().mean().sort_values(ascending = False)"
   ]
  },
  {
   "cell_type": "code",
   "execution_count": 65,
   "id": "5e47dabe",
   "metadata": {},
   "outputs": [],
   "source": [
    "cat_features = list(df.select_dtypes(include='object').columns)\n",
    "df[cat_features] = df[cat_features].fillna('no info')\n",
    "test_for_k[cat_features] = test_for_k[cat_features].fillna('no info')"
   ]
  },
  {
   "cell_type": "code",
   "execution_count": 66,
   "id": "9d9a3093",
   "metadata": {
    "execution": {
     "iopub.execute_input": "2023-04-23T18:11:12.290674Z",
     "iopub.status.busy": "2023-04-23T18:11:12.289905Z",
     "iopub.status.idle": "2023-04-23T18:11:12.297888Z",
     "shell.execute_reply": "2023-04-23T18:11:12.297016Z"
    },
    "papermill": {
     "duration": 0.024531,
     "end_time": "2023-04-23T18:11:12.299997",
     "exception": false,
     "start_time": "2023-04-23T18:11:12.275466",
     "status": "completed"
    },
    "tags": []
   },
   "outputs": [
    {
     "data": {
      "text/plain": [
       "1.0"
      ]
     },
     "execution_count": 66,
     "metadata": {},
     "output_type": "execute_result"
    }
   ],
   "source": [
    "df.shape[0] / old_shape"
   ]
  },
  {
   "cell_type": "markdown",
   "id": "44ed9e85",
   "metadata": {},
   "source": [
    "# Выборки"
   ]
  },
  {
   "cell_type": "code",
   "execution_count": 67,
   "id": "e97c5501",
   "metadata": {
    "execution": {
     "iopub.execute_input": "2023-04-23T18:11:13.694034Z",
     "iopub.status.busy": "2023-04-23T18:11:13.693623Z",
     "iopub.status.idle": "2023-04-23T18:11:13.703271Z",
     "shell.execute_reply": "2023-04-23T18:11:13.702416Z"
    },
    "papermill": {
     "duration": 0.027088,
     "end_time": "2023-04-23T18:11:13.705318",
     "exception": false,
     "start_time": "2023-04-23T18:11:13.678230",
     "status": "completed"
    },
    "tags": []
   },
   "outputs": [],
   "source": [
    "train, test = train_test_split(df,train_size=0.7,random_state=2003)"
   ]
  },
  {
   "cell_type": "code",
   "execution_count": 68,
   "id": "7444416a",
   "metadata": {
    "execution": {
     "iopub.execute_input": "2023-04-23T18:11:13.734429Z",
     "iopub.status.busy": "2023-04-23T18:11:13.733999Z",
     "iopub.status.idle": "2023-04-23T18:11:13.741445Z",
     "shell.execute_reply": "2023-04-23T18:11:13.740252Z"
    },
    "papermill": {
     "duration": 0.025092,
     "end_time": "2023-04-23T18:11:13.743842",
     "exception": false,
     "start_time": "2023-04-23T18:11:13.718750",
     "status": "completed"
    },
    "tags": []
   },
   "outputs": [],
   "source": [
    "floats = list(df.select_dtypes(include='float').columns)\n"
   ]
  },
  {
   "cell_type": "code",
   "execution_count": 69,
   "id": "d12723e8",
   "metadata": {
    "execution": {
     "iopub.execute_input": "2023-04-23T18:11:11.138443Z",
     "iopub.status.busy": "2023-04-23T18:11:11.137659Z",
     "iopub.status.idle": "2023-04-23T18:11:11.146127Z",
     "shell.execute_reply": "2023-04-23T18:11:11.145293Z"
    },
    "papermill": {
     "duration": 0.024585,
     "end_time": "2023-04-23T18:11:11.148472",
     "exception": false,
     "start_time": "2023-04-23T18:11:11.123887",
     "status": "completed"
    },
    "tags": []
   },
   "outputs": [],
   "source": [
    "cat_features = list(df.select_dtypes(include='object').columns)"
   ]
  },
  {
   "cell_type": "code",
   "execution_count": 70,
   "id": "cce6bac6",
   "metadata": {},
   "outputs": [
    {
     "data": {
      "text/plain": [
       "Index(['city', 'city_development_index', 'gender', 'relevent_experience',\n",
       "       'enrolled_university', 'education_level', 'major_discipline',\n",
       "       'experience', 'company_size', 'company_type', 'last_new_job',\n",
       "       'training_hours', 'target'],\n",
       "      dtype='object')"
      ]
     },
     "execution_count": 70,
     "metadata": {},
     "output_type": "execute_result"
    }
   ],
   "source": [
    "df.columns"
   ]
  },
  {
   "cell_type": "code",
   "execution_count": 71,
   "id": "2b9e52d9",
   "metadata": {
    "execution": {
     "iopub.execute_input": "2023-04-23T18:11:13.772995Z",
     "iopub.status.busy": "2023-04-23T18:11:13.771879Z",
     "iopub.status.idle": "2023-04-23T18:11:13.779457Z",
     "shell.execute_reply": "2023-04-23T18:11:13.778340Z"
    },
    "papermill": {
     "duration": 0.024498,
     "end_time": "2023-04-23T18:11:13.781859",
     "exception": false,
     "start_time": "2023-04-23T18:11:13.757361",
     "status": "completed"
    },
    "tags": []
   },
   "outputs": [],
   "source": [
    "X = ['city', 'city_development_index', 'gender', 'relevent_experience',\n",
    "       'enrolled_university', 'education_level', 'major_discipline',\n",
    "       'experience', 'company_size', 'company_type', 'last_new_job',\n",
    "       'training_hours']\n",
    "y = ['target']"
   ]
  },
  {
   "cell_type": "markdown",
   "id": "ac374f16",
   "metadata": {},
   "source": [
    "# Cоздание pool"
   ]
  },
  {
   "cell_type": "code",
   "execution_count": 72,
   "id": "902453ea",
   "metadata": {
    "execution": {
     "iopub.execute_input": "2023-04-23T18:11:13.921809Z",
     "iopub.status.busy": "2023-04-23T18:11:13.921406Z",
     "iopub.status.idle": "2023-04-23T18:11:13.966630Z",
     "shell.execute_reply": "2023-04-23T18:11:13.965545Z"
    },
    "papermill": {
     "duration": 0.063283,
     "end_time": "2023-04-23T18:11:13.969417",
     "exception": false,
     "start_time": "2023-04-23T18:11:13.906134",
     "status": "completed"
    },
    "tags": []
   },
   "outputs": [],
   "source": [
    "train_data = Pool(data=train[X],\n",
    "                  label=train[y],\n",
    "                  cat_features=cat_features\n",
    "                 )"
   ]
  },
  {
   "cell_type": "code",
   "execution_count": 73,
   "id": "f2962c9b",
   "metadata": {
    "execution": {
     "iopub.execute_input": "2023-04-23T18:11:13.999347Z",
     "iopub.status.busy": "2023-04-23T18:11:13.998505Z",
     "iopub.status.idle": "2023-04-23T18:11:14.014700Z",
     "shell.execute_reply": "2023-04-23T18:11:14.013242Z"
    },
    "papermill": {
     "duration": 0.034531,
     "end_time": "2023-04-23T18:11:14.017975",
     "exception": false,
     "start_time": "2023-04-23T18:11:13.983444",
     "status": "completed"
    },
    "tags": []
   },
   "outputs": [],
   "source": [
    "test_data = Pool(data=test[X],\n",
    "                  label=test[y],\n",
    "                  cat_features=cat_features\n",
    "                 )"
   ]
  },
  {
   "cell_type": "markdown",
   "id": "a10f15a6",
   "metadata": {},
   "source": [
    "# Запуск кросс-валидации"
   ]
  },
  {
   "cell_type": "code",
   "execution_count": 74,
   "id": "b661b9cb",
   "metadata": {
    "execution": {
     "iopub.execute_input": "2023-04-23T18:11:13.884605Z",
     "iopub.status.busy": "2023-04-23T18:11:13.884213Z",
     "iopub.status.idle": "2023-04-23T18:11:13.889843Z",
     "shell.execute_reply": "2023-04-23T18:11:13.888635Z"
    },
    "papermill": {
     "duration": 0.023446,
     "end_time": "2023-04-23T18:11:13.892336",
     "exception": false,
     "start_time": "2023-04-23T18:11:13.868890",
     "status": "completed"
    },
    "tags": []
   },
   "outputs": [],
   "source": [
    "params = {'cat_features': cat_features,\n",
    "              'eval_metric': 'AUC',\n",
    "          'loss_function': 'Logloss',\n",
    "              'learning_rate': 0.005,\n",
    "              'random_seed': 2003,\n",
    "              'verbose':100}"
   ]
  },
  {
   "cell_type": "code",
   "execution_count": 75,
   "id": "a4d051be",
   "metadata": {
    "execution": {
     "iopub.execute_input": "2023-04-23T18:11:14.048163Z",
     "iopub.status.busy": "2023-04-23T18:11:14.047759Z",
     "iopub.status.idle": "2023-04-23T18:11:55.703904Z",
     "shell.execute_reply": "2023-04-23T18:11:55.702408Z"
    },
    "papermill": {
     "duration": 41.674405,
     "end_time": "2023-04-23T18:11:55.706413",
     "exception": false,
     "start_time": "2023-04-23T18:11:14.032008",
     "status": "completed"
    },
    "tags": []
   },
   "outputs": [
    {
     "name": "stdout",
     "output_type": "stream",
     "text": [
      "Training on fold [0/5]\n",
      "\n",
      "bestTest = 0.8082348718\n",
      "bestIteration = 999\n",
      "\n",
      "Training on fold [1/5]\n",
      "\n",
      "bestTest = 0.8054664832\n",
      "bestIteration = 999\n",
      "\n",
      "Training on fold [2/5]\n",
      "\n",
      "bestTest = 0.79259557\n",
      "bestIteration = 26\n",
      "\n",
      "Training on fold [3/5]\n",
      "\n",
      "bestTest = 0.8067280369\n",
      "bestIteration = 999\n",
      "\n",
      "Training on fold [4/5]\n",
      "\n",
      "bestTest = 0.8046457629\n",
      "bestIteration = 994\n",
      "\n"
     ]
    }
   ],
   "source": [
    "cv_data = cv(\n",
    "    params = params,\n",
    "    pool = train_data,\n",
    "    fold_count=5,\n",
    "    shuffle=True,\n",
    "    partition_random_seed=0,\n",
    "    stratified=True,\n",
    "    verbose=False,\n",
    "    early_stopping_rounds=200,\n",
    "    #plot = True\n",
    ")"
   ]
  },
  {
   "cell_type": "markdown",
   "id": "f9c4f83e",
   "metadata": {},
   "source": [
    "В таблице cv_data показаны средние значения метрик по количеству фолдов, которые мы выбрали. В данном случае 5."
   ]
  },
  {
   "cell_type": "code",
   "execution_count": 76,
   "id": "bc751080",
   "metadata": {
    "execution": {
     "iopub.execute_input": "2023-04-23T18:11:55.736226Z",
     "iopub.status.busy": "2023-04-23T18:11:55.735804Z",
     "iopub.status.idle": "2023-04-23T18:11:55.752134Z",
     "shell.execute_reply": "2023-04-23T18:11:55.750971Z"
    },
    "papermill": {
     "duration": 0.034049,
     "end_time": "2023-04-23T18:11:55.754553",
     "exception": false,
     "start_time": "2023-04-23T18:11:55.720504",
     "status": "completed"
    },
    "tags": []
   },
   "outputs": [
    {
     "data": {
      "text/html": [
       "<div>\n",
       "<style scoped>\n",
       "    .dataframe tbody tr th:only-of-type {\n",
       "        vertical-align: middle;\n",
       "    }\n",
       "\n",
       "    .dataframe tbody tr th {\n",
       "        vertical-align: top;\n",
       "    }\n",
       "\n",
       "    .dataframe thead th {\n",
       "        text-align: right;\n",
       "    }\n",
       "</style>\n",
       "<table border=\"1\" class=\"dataframe\">\n",
       "  <thead>\n",
       "    <tr style=\"text-align: right;\">\n",
       "      <th></th>\n",
       "      <th>iterations</th>\n",
       "      <th>test-AUC-mean</th>\n",
       "      <th>test-AUC-std</th>\n",
       "      <th>test-Logloss-mean</th>\n",
       "      <th>test-Logloss-std</th>\n",
       "      <th>train-Logloss-mean</th>\n",
       "      <th>train-Logloss-std</th>\n",
       "    </tr>\n",
       "  </thead>\n",
       "  <tbody>\n",
       "    <tr>\n",
       "      <th>999</th>\n",
       "      <td>999</td>\n",
       "      <td>0.80326</td>\n",
       "      <td>0.006862</td>\n",
       "      <td>0.437357</td>\n",
       "      <td>0.01457</td>\n",
       "      <td>0.426136</td>\n",
       "      <td>0.018077</td>\n",
       "    </tr>\n",
       "  </tbody>\n",
       "</table>\n",
       "</div>"
      ],
      "text/plain": [
       "     iterations  test-AUC-mean  test-AUC-std  test-Logloss-mean  \\\n",
       "999         999        0.80326      0.006862           0.437357   \n",
       "\n",
       "     test-Logloss-std  train-Logloss-mean  train-Logloss-std  \n",
       "999           0.01457            0.426136           0.018077  "
      ]
     },
     "execution_count": 76,
     "metadata": {},
     "output_type": "execute_result"
    }
   ],
   "source": [
    "cv_data[cv_data['test-AUC-mean'] == cv_data['test-AUC-mean'].max()]"
   ]
  },
  {
   "cell_type": "markdown",
   "id": "edd1af63",
   "metadata": {},
   "source": [
    "Если мы подобрали learning_rate таким образом (чтобы его подобрать позапускай кросс-валидацию несколько раз меняя learning_rate, но скорее всего он и сам нормально подберется), что лучшая интерация случается ближе к 1000, то ее можно и не запоминать, а просто обучать модель на дефултной 1000 итераций с тем learning_rate который мы нашли"
   ]
  },
  {
   "cell_type": "markdown",
   "id": "1b236756",
   "metadata": {},
   "source": [
    "# Разделим тренировочную выборку на тренировочную и валидационную"
   ]
  },
  {
   "cell_type": "code",
   "execution_count": 77,
   "id": "1e5a3de3",
   "metadata": {
    "execution": {
     "iopub.execute_input": "2023-04-23T18:11:55.785766Z",
     "iopub.status.busy": "2023-04-23T18:11:55.785379Z",
     "iopub.status.idle": "2023-04-23T18:11:55.792622Z",
     "shell.execute_reply": "2023-04-23T18:11:55.791608Z"
    },
    "papermill": {
     "duration": 0.026342,
     "end_time": "2023-04-23T18:11:55.795034",
     "exception": false,
     "start_time": "2023-04-23T18:11:55.768692",
     "status": "completed"
    },
    "tags": []
   },
   "outputs": [],
   "source": [
    "train_, val = train_test_split(train, random_state = 2003)"
   ]
  },
  {
   "cell_type": "code",
   "execution_count": 80,
   "id": "0e041771",
   "metadata": {
    "execution": {
     "iopub.execute_input": "2023-04-23T18:11:55.824460Z",
     "iopub.status.busy": "2023-04-23T18:11:55.823779Z",
     "iopub.status.idle": "2023-04-23T18:11:55.830040Z",
     "shell.execute_reply": "2023-04-23T18:11:55.829116Z"
    },
    "papermill": {
     "duration": 0.023393,
     "end_time": "2023-04-23T18:11:55.832178",
     "exception": false,
     "start_time": "2023-04-23T18:11:55.808785",
     "status": "completed"
    },
    "tags": []
   },
   "outputs": [],
   "source": [
    "model = CatBoostClassifier(**params)"
   ]
  },
  {
   "cell_type": "code",
   "execution_count": 81,
   "id": "f7f0251e",
   "metadata": {
    "execution": {
     "iopub.execute_input": "2023-04-23T18:11:55.862653Z",
     "iopub.status.busy": "2023-04-23T18:11:55.861982Z",
     "iopub.status.idle": "2023-04-23T18:12:03.163865Z",
     "shell.execute_reply": "2023-04-23T18:12:03.162891Z"
    },
    "papermill": {
     "duration": 7.319408,
     "end_time": "2023-04-23T18:12:03.166180",
     "exception": false,
     "start_time": "2023-04-23T18:11:55.846772",
     "status": "completed"
    },
    "tags": []
   },
   "outputs": [
    {
     "name": "stdout",
     "output_type": "stream",
     "text": [
      "0:\ttotal: 58.9ms\tremaining: 58.8s\n",
      "100:\ttotal: 7.42s\tremaining: 1m 6s\n",
      "200:\ttotal: 15.3s\tremaining: 1m\n",
      "300:\ttotal: 23s\tremaining: 53.3s\n",
      "400:\ttotal: 30.4s\tremaining: 45.3s\n",
      "500:\ttotal: 37.9s\tremaining: 37.8s\n",
      "600:\ttotal: 45.8s\tremaining: 30.4s\n",
      "700:\ttotal: 53.5s\tremaining: 22.8s\n",
      "800:\ttotal: 1m 1s\tremaining: 15.2s\n",
      "900:\ttotal: 1m 7s\tremaining: 7.42s\n",
      "999:\ttotal: 1m 14s\tremaining: 0us\n"
     ]
    },
    {
     "data": {
      "text/plain": [
       "<catboost.core.CatBoostClassifier at 0x1fed2e24760>"
      ]
     },
     "execution_count": 81,
     "metadata": {},
     "output_type": "execute_result"
    }
   ],
   "source": [
    "model.fit(train_[X],train_[y])"
   ]
  },
  {
   "cell_type": "code",
   "execution_count": 82,
   "id": "a610be5b",
   "metadata": {
    "execution": {
     "iopub.execute_input": "2023-04-23T18:12:03.198344Z",
     "iopub.status.busy": "2023-04-23T18:12:03.197912Z",
     "iopub.status.idle": "2023-04-23T18:12:03.214950Z",
     "shell.execute_reply": "2023-04-23T18:12:03.213744Z"
    },
    "papermill": {
     "duration": 0.036778,
     "end_time": "2023-04-23T18:12:03.217943",
     "exception": false,
     "start_time": "2023-04-23T18:12:03.181165",
     "status": "completed"
    },
    "tags": []
   },
   "outputs": [],
   "source": [
    "val['y_score'] = model.predict_proba(val[X])[:,1]"
   ]
  },
  {
   "cell_type": "markdown",
   "id": "be874502",
   "metadata": {},
   "source": [
    "# Подбор threshold с помощью валидационной выборки"
   ]
  },
  {
   "cell_type": "code",
   "execution_count": 83,
   "id": "851d7cb4",
   "metadata": {
    "execution": {
     "iopub.execute_input": "2023-04-23T18:12:03.289496Z",
     "iopub.status.busy": "2023-04-23T18:12:03.289064Z",
     "iopub.status.idle": "2023-04-23T18:12:03.475185Z",
     "shell.execute_reply": "2023-04-23T18:12:03.473850Z"
    },
    "papermill": {
     "duration": 0.205288,
     "end_time": "2023-04-23T18:12:03.477964",
     "exception": false,
     "start_time": "2023-04-23T18:12:03.272676",
     "status": "completed"
    },
    "tags": []
   },
   "outputs": [],
   "source": [
    "result = []\n",
    "for thr in np.linspace(0,1,101):\n",
    "    val['y_pred'] = val['y_score'] > thr\n",
    "    f1 = f1_score(val[y],val['y_pred'])\n",
    "    result.append((thr,f1))"
   ]
  },
  {
   "cell_type": "code",
   "execution_count": 84,
   "id": "571bb9e4",
   "metadata": {
    "execution": {
     "iopub.execute_input": "2023-04-23T18:12:03.508813Z",
     "iopub.status.busy": "2023-04-23T18:12:03.508396Z",
     "iopub.status.idle": "2023-04-23T18:12:03.514532Z",
     "shell.execute_reply": "2023-04-23T18:12:03.513344Z"
    },
    "papermill": {
     "duration": 0.024527,
     "end_time": "2023-04-23T18:12:03.516929",
     "exception": false,
     "start_time": "2023-04-23T18:12:03.492402",
     "status": "completed"
    },
    "tags": []
   },
   "outputs": [],
   "source": [
    "f1_df = pd.DataFrame(result,columns=['thr','f1'])"
   ]
  },
  {
   "cell_type": "code",
   "execution_count": 89,
   "id": "8289108d",
   "metadata": {},
   "outputs": [
    {
     "data": {
      "text/html": [
       "<div>\n",
       "<style scoped>\n",
       "    .dataframe tbody tr th:only-of-type {\n",
       "        vertical-align: middle;\n",
       "    }\n",
       "\n",
       "    .dataframe tbody tr th {\n",
       "        vertical-align: top;\n",
       "    }\n",
       "\n",
       "    .dataframe thead th {\n",
       "        text-align: right;\n",
       "    }\n",
       "</style>\n",
       "<table border=\"1\" class=\"dataframe\">\n",
       "  <thead>\n",
       "    <tr style=\"text-align: right;\">\n",
       "      <th></th>\n",
       "      <th>thr</th>\n",
       "      <th>f1</th>\n",
       "    </tr>\n",
       "  </thead>\n",
       "  <tbody>\n",
       "    <tr>\n",
       "      <th>30</th>\n",
       "      <td>0.30</td>\n",
       "      <td>0.631360</td>\n",
       "    </tr>\n",
       "    <tr>\n",
       "      <th>31</th>\n",
       "      <td>0.31</td>\n",
       "      <td>0.630537</td>\n",
       "    </tr>\n",
       "    <tr>\n",
       "      <th>32</th>\n",
       "      <td>0.32</td>\n",
       "      <td>0.628541</td>\n",
       "    </tr>\n",
       "    <tr>\n",
       "      <th>28</th>\n",
       "      <td>0.28</td>\n",
       "      <td>0.628337</td>\n",
       "    </tr>\n",
       "    <tr>\n",
       "      <th>29</th>\n",
       "      <td>0.29</td>\n",
       "      <td>0.627451</td>\n",
       "    </tr>\n",
       "    <tr>\n",
       "      <th>...</th>\n",
       "      <td>...</td>\n",
       "      <td>...</td>\n",
       "    </tr>\n",
       "    <tr>\n",
       "      <th>76</th>\n",
       "      <td>0.76</td>\n",
       "      <td>0.000000</td>\n",
       "    </tr>\n",
       "    <tr>\n",
       "      <th>75</th>\n",
       "      <td>0.75</td>\n",
       "      <td>0.000000</td>\n",
       "    </tr>\n",
       "    <tr>\n",
       "      <th>74</th>\n",
       "      <td>0.74</td>\n",
       "      <td>0.000000</td>\n",
       "    </tr>\n",
       "    <tr>\n",
       "      <th>73</th>\n",
       "      <td>0.73</td>\n",
       "      <td>0.000000</td>\n",
       "    </tr>\n",
       "    <tr>\n",
       "      <th>100</th>\n",
       "      <td>1.00</td>\n",
       "      <td>0.000000</td>\n",
       "    </tr>\n",
       "  </tbody>\n",
       "</table>\n",
       "<p>101 rows × 2 columns</p>\n",
       "</div>"
      ],
      "text/plain": [
       "      thr        f1\n",
       "30   0.30  0.631360\n",
       "31   0.31  0.630537\n",
       "32   0.32  0.628541\n",
       "28   0.28  0.628337\n",
       "29   0.29  0.627451\n",
       "..    ...       ...\n",
       "76   0.76  0.000000\n",
       "75   0.75  0.000000\n",
       "74   0.74  0.000000\n",
       "73   0.73  0.000000\n",
       "100  1.00  0.000000\n",
       "\n",
       "[101 rows x 2 columns]"
      ]
     },
     "execution_count": 89,
     "metadata": {},
     "output_type": "execute_result"
    }
   ],
   "source": [
    "f1_df.sort_values('f1',ascending=False)"
   ]
  },
  {
   "cell_type": "code",
   "execution_count": 93,
   "id": "4a6126cb",
   "metadata": {
    "execution": {
     "iopub.execute_input": "2023-04-23T18:12:03.548952Z",
     "iopub.status.busy": "2023-04-23T18:12:03.548543Z",
     "iopub.status.idle": "2023-04-23T18:12:03.562903Z",
     "shell.execute_reply": "2023-04-23T18:12:03.561758Z"
    },
    "papermill": {
     "duration": 0.03337,
     "end_time": "2023-04-23T18:12:03.565503",
     "exception": false,
     "start_time": "2023-04-23T18:12:03.532133",
     "status": "completed"
    },
    "tags": []
   },
   "outputs": [],
   "source": [
    "thr = f1_df.sort_values('f1',ascending=False).iloc[0, 0]"
   ]
  },
  {
   "cell_type": "code",
   "execution_count": 94,
   "id": "46c33df2",
   "metadata": {},
   "outputs": [
    {
     "data": {
      "text/plain": [
       "0.3"
      ]
     },
     "execution_count": 94,
     "metadata": {},
     "output_type": "execute_result"
    }
   ],
   "source": [
    "thr"
   ]
  },
  {
   "cell_type": "markdown",
   "id": "7b39a08e",
   "metadata": {
    "papermill": {
     "duration": 0.013736,
     "end_time": "2023-04-23T18:12:03.624189",
     "exception": false,
     "start_time": "2023-04-23T18:12:03.610453",
     "status": "completed"
    },
    "tags": []
   },
   "source": [
    "# Проверяем на тестовой выборке"
   ]
  },
  {
   "cell_type": "code",
   "execution_count": 95,
   "id": "c66f607f",
   "metadata": {
    "execution": {
     "iopub.execute_input": "2023-04-23T18:12:03.654557Z",
     "iopub.status.busy": "2023-04-23T18:12:03.654128Z",
     "iopub.status.idle": "2023-04-23T18:12:12.323188Z",
     "shell.execute_reply": "2023-04-23T18:12:12.321954Z"
    },
    "papermill": {
     "duration": 8.687278,
     "end_time": "2023-04-23T18:12:12.325621",
     "exception": false,
     "start_time": "2023-04-23T18:12:03.638343",
     "status": "completed"
    },
    "tags": []
   },
   "outputs": [
    {
     "name": "stdout",
     "output_type": "stream",
     "text": [
      "0:\ttotal: 52.8ms\tremaining: 52.8s\n",
      "100:\ttotal: 8.14s\tremaining: 1m 12s\n",
      "200:\ttotal: 16.4s\tremaining: 1m 5s\n",
      "300:\ttotal: 24.5s\tremaining: 56.9s\n",
      "400:\ttotal: 33.1s\tremaining: 49.4s\n",
      "500:\ttotal: 41.3s\tremaining: 41.2s\n",
      "600:\ttotal: 49.7s\tremaining: 33s\n",
      "700:\ttotal: 57.9s\tremaining: 24.7s\n",
      "800:\ttotal: 1m 6s\tremaining: 16.5s\n",
      "900:\ttotal: 1m 14s\tremaining: 8.19s\n",
      "999:\ttotal: 1m 22s\tremaining: 0us\n"
     ]
    },
    {
     "data": {
      "text/plain": [
       "<catboost.core.CatBoostClassifier at 0x1fed2e24760>"
      ]
     },
     "execution_count": 95,
     "metadata": {},
     "output_type": "execute_result"
    }
   ],
   "source": [
    "model.fit(train[X], train[y])"
   ]
  },
  {
   "cell_type": "code",
   "execution_count": 96,
   "id": "1481d647",
   "metadata": {
    "execution": {
     "iopub.execute_input": "2023-04-23T18:12:12.359453Z",
     "iopub.status.busy": "2023-04-23T18:12:12.358998Z",
     "iopub.status.idle": "2023-04-23T18:12:12.382429Z",
     "shell.execute_reply": "2023-04-23T18:12:12.381161Z"
    },
    "papermill": {
     "duration": 0.044219,
     "end_time": "2023-04-23T18:12:12.385653",
     "exception": false,
     "start_time": "2023-04-23T18:12:12.341434",
     "status": "completed"
    },
    "tags": []
   },
   "outputs": [],
   "source": [
    "test['y_score'] = model.predict_proba(test[X])[:,1]"
   ]
  },
  {
   "cell_type": "code",
   "execution_count": 97,
   "id": "d5249a4b",
   "metadata": {
    "execution": {
     "iopub.execute_input": "2023-04-23T18:12:12.488724Z",
     "iopub.status.busy": "2023-04-23T18:12:12.488228Z",
     "iopub.status.idle": "2023-04-23T18:12:12.502002Z",
     "shell.execute_reply": "2023-04-23T18:12:12.500612Z"
    },
    "papermill": {
     "duration": 0.036443,
     "end_time": "2023-04-23T18:12:12.504395",
     "exception": false,
     "start_time": "2023-04-23T18:12:12.467952",
     "status": "completed"
    },
    "tags": []
   },
   "outputs": [
    {
     "data": {
      "text/plain": [
       "0.8051010735758437"
      ]
     },
     "execution_count": 97,
     "metadata": {},
     "output_type": "execute_result"
    }
   ],
   "source": [
    "roc_auc_score(test[y],test['y_score'])"
   ]
  },
  {
   "cell_type": "code",
   "execution_count": 98,
   "id": "b7d90aa4",
   "metadata": {
    "execution": {
     "iopub.execute_input": "2023-04-23T18:12:12.538620Z",
     "iopub.status.busy": "2023-04-23T18:12:12.537767Z",
     "iopub.status.idle": "2023-04-23T18:12:12.544810Z",
     "shell.execute_reply": "2023-04-23T18:12:12.543732Z"
    },
    "papermill": {
     "duration": 0.026935,
     "end_time": "2023-04-23T18:12:12.547231",
     "exception": false,
     "start_time": "2023-04-23T18:12:12.520296",
     "status": "completed"
    },
    "tags": []
   },
   "outputs": [],
   "source": [
    "test['y_pred'] = test['y_score'] > thr"
   ]
  },
  {
   "cell_type": "code",
   "execution_count": 99,
   "id": "fe4a5d54",
   "metadata": {
    "execution": {
     "iopub.execute_input": "2023-04-23T18:12:12.580657Z",
     "iopub.status.busy": "2023-04-23T18:12:12.579880Z",
     "iopub.status.idle": "2023-04-23T18:12:12.591886Z",
     "shell.execute_reply": "2023-04-23T18:12:12.590820Z"
    },
    "papermill": {
     "duration": 0.031647,
     "end_time": "2023-04-23T18:12:12.594265",
     "exception": false,
     "start_time": "2023-04-23T18:12:12.562618",
     "status": "completed"
    },
    "tags": []
   },
   "outputs": [
    {
     "data": {
      "text/plain": [
       "0.6345524829021708"
      ]
     },
     "execution_count": 99,
     "metadata": {},
     "output_type": "execute_result"
    }
   ],
   "source": [
    "f1_score(test[y],test['y_pred'])"
   ]
  },
  {
   "cell_type": "code",
   "execution_count": null,
   "id": "a72a866e",
   "metadata": {},
   "outputs": [],
   "source": []
  },
  {
   "cell_type": "code",
   "execution_count": null,
   "id": "b377df55",
   "metadata": {},
   "outputs": [],
   "source": []
  }
 ],
 "metadata": {
  "kernelspec": {
   "display_name": "Python 3",
   "language": "python",
   "name": "python3"
  },
  "language_info": {
   "codemirror_mode": {
    "name": "ipython",
    "version": 3
   },
   "file_extension": ".py",
   "mimetype": "text/x-python",
   "name": "python",
   "nbconvert_exporter": "python",
   "pygments_lexer": "ipython3",
   "version": "3.9.12"
  },
  "papermill": {
   "default_parameters": {},
   "duration": 85.217652,
   "end_time": "2023-04-23T18:12:25.893764",
   "environment_variables": {},
   "exception": null,
   "input_path": "__notebook__.ipynb",
   "output_path": "__notebook__.ipynb",
   "parameters": {},
   "start_time": "2023-04-23T18:11:00.676112",
   "version": "2.4.0"
  }
 },
 "nbformat": 4,
 "nbformat_minor": 5
}
